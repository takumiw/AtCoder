{
 "cells": [
  {
   "cell_type": "code",
   "execution_count": 3,
   "metadata": {},
   "outputs": [
    {
     "name": "stdout",
     "output_type": "stream",
     "text": [
      "22\n",
      "Christmas Eve Eve Eve \n"
     ]
    }
   ],
   "source": [
    "D = input()\n",
    "if D == '25':\n",
    "    print('Christmas')\n",
    "elif D == '24':\n",
    "    print('Christmas Eve')\n",
    "elif D == '23':\n",
    "    print('Christmas Eve Eve')\n",
    "elif D == '22':\n",
    "     print('Christmas Eve Eve Eve ')"
   ]
  },
  {
   "cell_type": "code",
   "execution_count": null,
   "metadata": {},
   "outputs": [],
   "source": []
  }
 ],
 "metadata": {
  "kernelspec": {
   "display_name": "Python 3",
   "language": "python",
   "name": "python3"
  },
  "language_info": {
   "codemirror_mode": {
    "name": "ipython",
    "version": 3
   },
   "file_extension": ".py",
   "mimetype": "text/x-python",
   "name": "python",
   "nbconvert_exporter": "python",
   "pygments_lexer": "ipython3",
   "version": "3.6.4"
  }
 },
 "nbformat": 4,
 "nbformat_minor": 2
}
