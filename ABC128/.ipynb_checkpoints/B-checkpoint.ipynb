{
 "cells": [
  {
   "cell_type": "code",
   "execution_count": 15,
   "metadata": {},
   "outputs": [
    {
     "name": "stdout",
     "output_type": "stream",
     "text": [
      "4\n",
      "khabarovsk 20\n",
      "moscow 10\n",
      "moscow 60\n",
      "khabarovsk 40\n",
      "[('khabarovsk', [[20, 1], [40, 4]]), ('moscow', [[10, 2], [60, 3]])]\n",
      "[[20, 1], [40, 4]]\n",
      "1\n",
      "4\n",
      "[[10, 2], [60, 3]]\n",
      "2\n",
      "3\n"
     ]
    }
   ],
   "source": [
    "N = int(input())\n",
    "restaurants = {}\n",
    "for i in range(N):\n",
    "    S, P = input().split()\n",
    "    if S not in restaurants:\n",
    "        restaurants[S] = [[int(P), i + 1]]\n",
    "        continue\n",
    "    restaurants[S] = restaurants[S] + [[int(P), i + 1]]\n",
    "\n",
    "restaurants_sorted = sorted(restaurants.items(), key=lambda x:x[0])\n",
    "for city in restaurants_sorted:\n",
    "    city = list(city[1])\n",
    "    city.sort(reverse=True)\n",
    "    for restaurant in city:\n",
    "        print(restaurant[1])"
   ]
  }
 ],
 "metadata": {
  "kernelspec": {
   "display_name": "Python 3",
   "language": "python",
   "name": "python3"
  },
  "language_info": {
   "codemirror_mode": {
    "name": "ipython",
    "version": 3
   },
   "file_extension": ".py",
   "mimetype": "text/x-python",
   "name": "python",
   "nbconvert_exporter": "python",
   "pygments_lexer": "ipython3",
   "version": "3.6.4"
  }
 },
 "nbformat": 4,
 "nbformat_minor": 2
}
