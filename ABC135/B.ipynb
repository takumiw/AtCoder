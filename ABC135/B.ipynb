{
 "cells": [
  {
   "cell_type": "code",
   "execution_count": 7,
   "metadata": {},
   "outputs": [
    {
     "name": "stdout",
     "output_type": "stream",
     "text": [
      "5\n",
      "2 4 3 5 1\n",
      "NO\n"
     ]
    },
    {
     "ename": "SystemExit",
     "evalue": "",
     "output_type": "error",
     "traceback": [
      "An exception has occurred, use %tb to see the full traceback.\n",
      "\u001b[0;31mSystemExit\u001b[0m\n"
     ]
    },
    {
     "name": "stderr",
     "output_type": "stream",
     "text": [
      "/Library/Frameworks/Python.framework/Versions/3.6/lib/python3.6/site-packages/IPython/core/interactiveshell.py:2971: UserWarning: To exit: use 'exit', 'quit', or Ctrl-D.\n",
      "  warn(\"To exit: use 'exit', 'quit', or Ctrl-D.\", stacklevel=1)\n"
     ]
    }
   ],
   "source": [
    "import sys\n",
    "\n",
    "N = int(input())\n",
    "p = list(map(int, input().split()))\n",
    "checker = p.pop(0)\n",
    "l = []\n",
    "for pp in p:\n",
    "    if checker > pp:\n",
    "        l.append(pp)\n",
    "    checker = pp\n",
    "    \n",
    "if len(l) == 0:\n",
    "    print('YES')\n",
    "    sys.exit()    \n",
    "    \n",
    "if len(l) == 2:\n",
    "    temp_p = p[:]\n",
    "    temp_p[p.index(l[0])] = l[1]\n",
    "    temp_p[p.index(l[1])] = l[0]\n",
    "    checker = temp_p.pop(0)\n",
    "    for pp in temp_p:\n",
    "        if pp < checker:\n",
    "            print('NO')\n",
    "            sys.exit()\n",
    "    print('YES')\n",
    "else:\n",
    "    print('NO')"
   ]
  },
  {
   "cell_type": "code",
   "execution_count": null,
   "metadata": {},
   "outputs": [],
   "source": []
  }
 ],
 "metadata": {
  "kernelspec": {
   "display_name": "Python 3",
   "language": "python",
   "name": "python3"
  },
  "language_info": {
   "codemirror_mode": {
    "name": "ipython",
    "version": 3
   },
   "file_extension": ".py",
   "mimetype": "text/x-python",
   "name": "python",
   "nbconvert_exporter": "python",
   "pygments_lexer": "ipython3",
   "version": "3.6.4"
  }
 },
 "nbformat": 4,
 "nbformat_minor": 2
}
