{
 "cells": [
  {
   "cell_type": "code",
   "execution_count": 8,
   "metadata": {},
   "outputs": [
    {
     "name": "stdout",
     "output_type": "stream",
     "text": [
      "999999999\n",
      "26484\n"
     ]
    }
   ],
   "source": [
    "N = int(input())\n",
    "\n",
    "def dfs(number):\n",
    "    if int(number) > N:\n",
    "        return 0\n",
    "    if all(number.count(n) > 0 for n in '753'):\n",
    "        ret = 1\n",
    "    else:\n",
    "        ret = 0\n",
    "    for n in '753':\n",
    "        ret += dfs(number + n)\n",
    "    return ret\n",
    "    \n",
    "print(dfs('0'))"
   ]
  },
  {
   "cell_type": "code",
   "execution_count": null,
   "metadata": {},
   "outputs": [],
   "source": []
  },
  {
   "cell_type": "markdown",
   "metadata": {},
   "source": [
    "Below takes too much time to solve large dataset so use above to solve large one."
   ]
  },
  {
   "cell_type": "code",
   "execution_count": 29,
   "metadata": {},
   "outputs": [
    {
     "name": "stdout",
     "output_type": "stream",
     "text": [
      "10000000\n",
      "2538\n"
     ]
    }
   ],
   "source": [
    "import sys\n",
    "N = int(input())\n",
    "ans = 0\n",
    "if N < 356:\n",
    "    print(0)\n",
    "    sys.exit()\n",
    "    \n",
    "for i in range(357, N + 1):\n",
    "    if len(set(str(i)) - set('753')) > 0:\n",
    "            continue\n",
    "    if len(set(str(i)) - set('0124689')) == 3:\n",
    "        ans += 1\n",
    "print(ans)"
   ]
  }
 ],
 "metadata": {
  "kernelspec": {
   "display_name": "Python 3",
   "language": "python",
   "name": "python3"
  },
  "language_info": {
   "codemirror_mode": {
    "name": "ipython",
    "version": 3
   },
   "file_extension": ".py",
   "mimetype": "text/x-python",
   "name": "python",
   "nbconvert_exporter": "python",
   "pygments_lexer": "ipython3",
   "version": "3.6.4"
  }
 },
 "nbformat": 4,
 "nbformat_minor": 2
}
