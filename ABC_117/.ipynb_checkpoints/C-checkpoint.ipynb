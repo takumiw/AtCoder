{
 "cells": [
  {
   "cell_type": "code",
   "execution_count": null,
   "metadata": {},
   "outputs": [],
   "source": [
    "import sys\n",
    "input = sys.stdin.readline\n",
    "n_dices, n_points = map(int, input().split())\n",
    "points = sorted(list(map(int, input().split())))\n",
    "if n_dices >= n_points:\n",
    "    print(0)\n",
    "    sys.exit()\n",
    "interval_list = [points[i + 1] - points[i] for i in range(n_points - 1)]\n",
    "interval_list.sort(reverse = True)\n",
    "print(sum(interval_list[n_dices - 1:]))"
   ]
  },
  {
   "cell_type": "code",
   "execution_count": 4,
   "metadata": {},
   "outputs": [
    {
     "name": "stdout",
     "output_type": "stream",
     "text": [
      "4 5\n",
      "1 2 3 4 5\n",
      "1\n"
     ]
    }
   ],
   "source": [
    "import sys\n",
    "n_dices, n_points = map(int, input().split())\n",
    "points = sorted(list(map(int, input().split())))\n",
    "if n_dices >= n_points:\n",
    "    print(0)\n",
    "    sys.exit()\n",
    "interval_list = [points[i + 1] - points[i] for i in range(n_points - 1)]\n",
    "interval_list.sort(reverse = True)\n",
    "print(sum(interval_list[n_dices - 1:]))"
   ]
  }
 ],
 "metadata": {
  "kernelspec": {
   "display_name": "Python 3",
   "language": "python",
   "name": "python3"
  },
  "language_info": {
   "codemirror_mode": {
    "name": "ipython",
    "version": 3
   },
   "file_extension": ".py",
   "mimetype": "text/x-python",
   "name": "python",
   "nbconvert_exporter": "python",
   "pygments_lexer": "ipython3",
   "version": "3.6.4"
  }
 },
 "nbformat": 4,
 "nbformat_minor": 2
}
