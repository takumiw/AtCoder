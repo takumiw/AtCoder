{
 "cells": [
  {
   "cell_type": "code",
   "execution_count": 14,
   "metadata": {},
   "outputs": [
    {
     "name": "stdout",
     "output_type": "stream",
     "text": [
      "4\n",
      "13 21 6 19\n",
      "11 30 6 15\n",
      "6\n"
     ]
    }
   ],
   "source": [
    "N = int(input())\n",
    "values = list(map(int, input().split()))\n",
    "costs = list(map(int, input().split()))\n",
    "gains = [values[i] - costs[i] for i in range(N) if values[i] - costs[i] > 0]\n",
    "print(max(sum(gains), 0))"
   ]
  }
 ],
 "metadata": {
  "kernelspec": {
   "display_name": "Python 3",
   "language": "python",
   "name": "python3"
  },
  "language_info": {
   "codemirror_mode": {
    "name": "ipython",
    "version": 3
   },
   "file_extension": ".py",
   "mimetype": "text/x-python",
   "name": "python",
   "nbconvert_exporter": "python",
   "pygments_lexer": "ipython3",
   "version": "3.6.4"
  }
 },
 "nbformat": 4,
 "nbformat_minor": 2
}
