{
 "cells": [
  {
   "cell_type": "code",
   "execution_count": 9,
   "metadata": {},
   "outputs": [
    {
     "name": "stdout",
     "output_type": "stream",
     "text": [
      "100000 1\n",
      "1 100000\n",
      "100000\n"
     ]
    }
   ],
   "source": [
    "N, M = map(int, input().split())\n",
    "min_gate = 0\n",
    "max_gate = N\n",
    "\n",
    "for _ in range(M):\n",
    "    l, r = map(int, input().split())\n",
    "    min_gate = max(min_gate, l)\n",
    "    max_gate = min(max_gate, r)\n",
    "\n",
    "print(max(max_gate - min_gate + 1, 0))"
   ]
  },
  {
   "cell_type": "markdown",
   "metadata": {},
   "source": []
  }
 ],
 "metadata": {
  "kernelspec": {
   "display_name": "Python 3",
   "language": "python",
   "name": "python3"
  },
  "language_info": {
   "codemirror_mode": {
    "name": "ipython",
    "version": 3
   },
   "file_extension": ".py",
   "mimetype": "text/x-python",
   "name": "python",
   "nbconvert_exporter": "python",
   "pygments_lexer": "ipython3",
   "version": "3.6.4"
  }
 },
 "nbformat": 4,
 "nbformat_minor": 2
}
