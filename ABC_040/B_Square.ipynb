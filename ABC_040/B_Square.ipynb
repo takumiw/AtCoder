{
 "cells": [
  {
   "cell_type": "code",
   "execution_count": 14,
   "metadata": {},
   "outputs": [
    {
     "name": "stdout",
     "output_type": "stream",
     "text": [
      "100000\n",
      "37\n"
     ]
    }
   ],
   "source": [
    "import math\n",
    "n = int(input())\n",
    "min_value = n\n",
    "\n",
    "for i in range(1, int(math.sqrt(n)) + 1):\n",
    "    temp_value = abs(n // i - i) + n - i * (n // i)\n",
    "    if temp_value < min_value:\n",
    "        min_value = temp_value\n",
    "        \n",
    "print(min_value)"
   ]
  },
  {
   "cell_type": "code",
   "execution_count": null,
   "metadata": {},
   "outputs": [],
   "source": []
  }
 ],
 "metadata": {
  "kernelspec": {
   "display_name": "Python 3",
   "language": "python",
   "name": "python3"
  },
  "language_info": {
   "codemirror_mode": {
    "name": "ipython",
    "version": 3
   },
   "file_extension": ".py",
   "mimetype": "text/x-python",
   "name": "python",
   "nbconvert_exporter": "python",
   "pygments_lexer": "ipython3",
   "version": "3.6.4"
  }
 },
 "nbformat": 4,
 "nbformat_minor": 2
}
