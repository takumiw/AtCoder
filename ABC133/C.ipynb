{
 "cells": [
  {
   "cell_type": "code",
   "execution_count": 6,
   "metadata": {},
   "outputs": [
    {
     "name": "stdout",
     "output_type": "stream",
     "text": [
      "2020 4037\n",
      "0\n"
     ]
    }
   ],
   "source": [
    "def main():\n",
    "    L, R = map(int, input().split())\n",
    "    if R // 2019 > L // 2019:\n",
    "        print(0)\n",
    "        return\n",
    "    retval = 2019\n",
    "    for i in range(L, R):\n",
    "        for j in range(i+1, R+1):\n",
    "            retval = min(retval, (i % 2019 * j % 2019) % 2019)\n",
    "            if retval == 0:\n",
    "                print(0)\n",
    "                return\n",
    "            \n",
    "    print(retval)\n",
    "    return\n",
    "    \n",
    "if __name__ == '__main__':\n",
    "    main()"
   ]
  }
 ],
 "metadata": {
  "kernelspec": {
   "display_name": "Python 3",
   "language": "python",
   "name": "python3"
  },
  "language_info": {
   "codemirror_mode": {
    "name": "ipython",
    "version": 3
   },
   "file_extension": ".py",
   "mimetype": "text/x-python",
   "name": "python",
   "nbconvert_exporter": "python",
   "pygments_lexer": "ipython3",
   "version": "3.6.4"
  }
 },
 "nbformat": 4,
 "nbformat_minor": 2
}
