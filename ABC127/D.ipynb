{
 "cells": [
  {
   "cell_type": "code",
   "execution_count": 4,
   "metadata": {},
   "outputs": [
    {
     "name": "stdout",
     "output_type": "stream",
     "text": [
      "3 2\n",
      "5 1 4\n",
      "2 3\n",
      "1 5\n",
      "[[2 3]\n",
      " [1 5]]\n"
     ]
    },
    {
     "ename": "TypeError",
     "evalue": "'key' is an invalid keyword argument for this function",
     "output_type": "error",
     "traceback": [
      "\u001b[0;31m---------------------------------------------------------------------------\u001b[0m",
      "\u001b[0;31mTypeError\u001b[0m                                 Traceback (most recent call last)",
      "\u001b[0;32m<ipython-input-4-842495cd8d63>\u001b[0m in \u001b[0;36m<module>\u001b[0;34m()\u001b[0m\n\u001b[1;32m     10\u001b[0m \u001b[0mprint\u001b[0m\u001b[0;34m(\u001b[0m\u001b[0mcandidates\u001b[0m\u001b[0;34m)\u001b[0m\u001b[0;34m\u001b[0m\u001b[0m\n\u001b[1;32m     11\u001b[0m \u001b[0;31m#  candidates = [list(map(int, input().split())) for _ in range(M)]\u001b[0m\u001b[0;34m\u001b[0m\u001b[0;34m\u001b[0m\u001b[0m\n\u001b[0;32m---> 12\u001b[0;31m \u001b[0mcandidates\u001b[0m\u001b[0;34m.\u001b[0m\u001b[0msort\u001b[0m\u001b[0;34m(\u001b[0m\u001b[0mkey\u001b[0m\u001b[0;34m=\u001b[0m\u001b[0mitemgetter\u001b[0m\u001b[0;34m(\u001b[0m\u001b[0;36m1\u001b[0m\u001b[0;34m)\u001b[0m\u001b[0;34m,\u001b[0m \u001b[0mreverse\u001b[0m\u001b[0;34m=\u001b[0m\u001b[0;32mTrue\u001b[0m\u001b[0;34m)\u001b[0m\u001b[0;34m\u001b[0m\u001b[0m\n\u001b[0m\u001b[1;32m     13\u001b[0m \u001b[0;34m\u001b[0m\u001b[0m\n\u001b[1;32m     14\u001b[0m \u001b[0;32mfor\u001b[0m \u001b[0mcanditate\u001b[0m \u001b[0;32min\u001b[0m \u001b[0mcandidates\u001b[0m\u001b[0;34m:\u001b[0m\u001b[0;34m\u001b[0m\u001b[0m\n",
      "\u001b[0;31mTypeError\u001b[0m: 'key' is an invalid keyword argument for this function"
     ]
    }
   ],
   "source": [
    "import sys\n",
    "import numpy as np\n",
    "#input = sys.stdin.readline\n",
    "from operator import itemgetter\n",
    "\n",
    "N, M = map(int, input().split())\n",
    "cards = np.sort(np.array(input().split(), dtype=np.int64))\n",
    "#  cards = sorted(list(map(int, input().split())))\n",
    "candidates = np.array([input().split() for _ in range(M)], dtype=np.int64)\n",
    "#  candidates = [list(map(int, input().split())) for _ in range(M)]\n",
    "candidates = np.sort(candidates,)\n",
    "print(candidates)\n",
    "#  candidates.sort(key=itemgetter(1), reverse=True)\n",
    "\n",
    "for canditate in candidates:\n",
    "    n_card = canditate[0]\n",
    "    replace_value = canditate[1]\n",
    "    if  replace_value  < cards[0]:\n",
    "        break\n",
    "    \n",
    "    for i in range(n_card):\n",
    "        if cards[i] < replace_value:\n",
    "            cards[i] = replace_value\n",
    "        else:\n",
    "            break\n",
    "    cards.sort()\n",
    "\n",
    "print(sum(cards))"
   ]
  },
  {
   "cell_type": "code",
   "execution_count": null,
   "metadata": {},
   "outputs": [],
   "source": []
  }
 ],
 "metadata": {
  "kernelspec": {
   "display_name": "Python 3",
   "language": "python",
   "name": "python3"
  },
  "language_info": {
   "codemirror_mode": {
    "name": "ipython",
    "version": 3
   },
   "file_extension": ".py",
   "mimetype": "text/x-python",
   "name": "python",
   "nbconvert_exporter": "python",
   "pygments_lexer": "ipython3",
   "version": "3.6.4"
  }
 },
 "nbformat": 4,
 "nbformat_minor": 2
}
