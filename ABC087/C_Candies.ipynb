{
 "cells": [
  {
   "cell_type": "code",
   "execution_count": 23,
   "metadata": {},
   "outputs": [
    {
     "name": "stdout",
     "output_type": "stream",
     "text": [
      "1\n",
      "2\n",
      "3\n",
      "[[2], [3]]\n",
      "5\n"
     ]
    }
   ],
   "source": [
    "N = int(input())\n",
    "grid = [list(map(int, input().split())) for _ in range(2)]\n",
    "dp_upper = [grid[0][0]]\n",
    "dp_lower = [grid[0][0] + grid[1][0]]\n",
    "\n",
    "for i in range(1, N):\n",
    "    dp_upper.append(dp_upper[i - 1] + grid[0][i])\n",
    "    dp_lower.append(max(dp_upper[i], dp_lower[i - 1]) + grid[1][i])\n",
    "print(dp_lower[-1])"
   ]
  }
 ],
 "metadata": {
  "kernelspec": {
   "display_name": "Python 3",
   "language": "python",
   "name": "python3"
  },
  "language_info": {
   "codemirror_mode": {
    "name": "ipython",
    "version": 3
   },
   "file_extension": ".py",
   "mimetype": "text/x-python",
   "name": "python",
   "nbconvert_exporter": "python",
   "pygments_lexer": "ipython3",
   "version": "3.6.4"
  }
 },
 "nbformat": 4,
 "nbformat_minor": 2
}
