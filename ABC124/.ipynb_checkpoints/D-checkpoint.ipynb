{
 "cells": [
  {
   "cell_type": "code",
   "execution_count": 19,
   "metadata": {},
   "outputs": [
    {
     "name": "stdout",
     "output_type": "stream",
     "text": [
      "0101\n",
      "0\n"
     ]
    }
   ],
   "source": [
    "S = list(map(int, list(input())))\n",
    "colors = [0, 1]\n",
    "cnt_b, cnt_w = 0, 0\n",
    "b_list = [colors[i % 2] for i in range(len(S))]\n",
    "\n",
    "for i in range(len(S)):\n",
    "    if S[i] == b_list[i]:\n",
    "        cnt_w += 1\n",
    "    else:\n",
    "        cnt_b += 1\n",
    "        \n",
    "print(min([cnt_w, cnt_b]))"
   ]
  },
  {
   "cell_type": "code",
   "execution_count": null,
   "metadata": {},
   "outputs": [],
   "source": []
  }
 ],
 "metadata": {
  "kernelspec": {
   "display_name": "Python 3",
   "language": "python",
   "name": "python3"
  },
  "language_info": {
   "codemirror_mode": {
    "name": "ipython",
    "version": 3
   },
   "file_extension": ".py",
   "mimetype": "text/x-python",
   "name": "python",
   "nbconvert_exporter": "python",
   "pygments_lexer": "ipython3",
   "version": "3.6.4"
  }
 },
 "nbformat": 4,
 "nbformat_minor": 2
}
