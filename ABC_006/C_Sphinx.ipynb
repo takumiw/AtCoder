{
 "cells": [
  {
   "cell_type": "markdown",
   "metadata": {},
   "source": [
    "##### C: Sphinx  \n",
    "---  \n",
    "*execution time*  \n",
    "**Method1: Full Search.**  \n",
    "N=1500 M=7500:   0.45667004585266113[sec]  \n",
    "N=5000 M=10000: 5.038908958435059[sec]   \n",
    "**Method2: Full Search only where number of elderly is  0 or 1.**  \n",
    "N=100000 M=500000: 0.08442330360412598[sec]\n"
   ]
  },
  {
   "cell_type": "code",
   "execution_count": 37,
   "metadata": {},
   "outputs": [
    {
     "name": "stdout",
     "output_type": "stream",
     "text": [
      "1500 7500\n",
      "-1 -1 -1\n",
      "elapsed_time:0.45667004585266113[sec]\n"
     ]
    }
   ],
   "source": [
    "'''Method1: Full Search'''\n",
    "import sys\n",
    "from past.builtins import xrange\n",
    "import time\n",
    "num_legs_variety = {'adult': 2, 'elderly': 3, 'baby': 4}\n",
    "\n",
    "def check(all_num_legs, temp_num_legs, num_citizen, num_adult, num_elderly, num_baby, start):\n",
    "    #print(num_adult, num_elderly, num_baby)\n",
    "    if temp_num_legs == all_num_legs and num_adult + num_elderly + num_baby == num_citizen:\n",
    "        print(str(num_adult) + ' ' + str(num_elderly) + ' ' + str(num_baby))\n",
    "        \n",
    "        elapsed_time = time.time() - start\n",
    "        print(\"elapsed_time:{0}\".format(elapsed_time) + \"[sec]\")\n",
    "        sys.exit()\n",
    "\n",
    "def main():\n",
    "    num_citizen, all_num_legs = map(int, input().rstrip().split())\n",
    "    start = time.time()\n",
    "    \n",
    "    num_adult_legs = num_legs_variety['adult']\n",
    "    num_elderly_legs = num_legs_variety['elderly']\n",
    "    num_baby_legs = num_legs_variety['baby']\n",
    "    \n",
    "    for num_adult in xrange(num_citizen + 1):\n",
    "        num_elderly, num_baby = 0, 0\n",
    "        \n",
    "        for num_elderly in xrange(num_citizen - num_adult + 1):            \n",
    "            num_baby = num_citizen - num_adult - num_elderly\n",
    "            temp_num_legs = num_adult * num_adult_legs + num_elderly * num_elderly_legs+ num_baby * num_baby_legs\n",
    "            check(all_num_legs, temp_num_legs, num_citizen, num_adult, num_elderly, num_baby, start)\n",
    "            \n",
    "    print('-1 -1 -1')\n",
    "    \n",
    "    elapsed_time = time.time() - start\n",
    "    print(\"elapsed_time:{0}\".format(elapsed_time) + \"[sec]\")\n",
    "    return\n",
    "\n",
    "if __name__ == '__main__':\n",
    "    main()"
   ]
  },
  {
   "cell_type": "code",
   "execution_count": null,
   "metadata": {},
   "outputs": [],
   "source": [
    "'''Full Search only where number of elderly is 0 or 1. Two elderlys are equal to one adult and one baby.'''\n",
    "import sys\n",
    "from past.builtins import xrange\n",
    "import time\n",
    "num_legs_variety = {'adult': 2, 'elderly': 3, 'baby': 4}\n",
    "\n",
    "def check(all_num_legs, temp_num_legs, num_citizen, num_adult, num_elderly, num_baby, start):\n",
    "    #print(num_adult, num_elderly, num_baby)\n",
    "    if temp_num_legs == all_num_legs and num_adult + num_elderly + num_baby == num_citizen:\n",
    "        print(str(num_adult) + ' ' + str(num_elderly) + ' ' + str(num_baby))\n",
    "        \n",
    "        elapsed_time = time.time() - start\n",
    "        print(\"elapsed_time:{0}\".format(elapsed_time) + \"[sec]\")\n",
    "        sys.exit()\n",
    "\n",
    "def main():\n",
    "    num_citizen, all_num_legs = map(int, input().rstrip().split())\n",
    "    start = time.time()\n",
    "    \n",
    "    num_adult_legs = num_legs_variety['adult']\n",
    "    num_elderly_legs = num_legs_variety['elderly']\n",
    "    num_baby_legs = num_legs_variety['baby']\n",
    "    \n",
    "    for num_elderly in xrange(2):\n",
    "        num_adult, num_baby = 0, 0\n",
    "        \n",
    "        for num_adult in xrange(num_citizen - num_elderly + 1):            \n",
    "            num_baby = num_citizen - num_adult - num_elderly\n",
    "            temp_num_legs = num_adult * num_adult_legs + num_elderly * num_elderly_legs+ num_baby * num_baby_legs\n",
    "            check(all_num_legs, temp_num_legs, num_citizen, num_adult, num_elderly, num_baby, start)\n",
    "            \n",
    "    print('-1 -1 -1')\n",
    "    \n",
    "    elapsed_time = time.time() - start\n",
    "    print(\"elapsed_time:{0}\".format(elapsed_time) + \"[sec]\")\n",
    "    return\n",
    "\n",
    "if __name__ == '__main__':\n",
    "    main()"
   ]
  },
  {
   "cell_type": "code",
   "execution_count": null,
   "metadata": {},
   "outputs": [],
   "source": []
  }
 ],
 "metadata": {
  "kernelspec": {
   "display_name": "Python 3",
   "language": "python",
   "name": "python3"
  },
  "language_info": {
   "codemirror_mode": {
    "name": "ipython",
    "version": 3
   },
   "file_extension": ".py",
   "mimetype": "text/x-python",
   "name": "python",
   "nbconvert_exporter": "python",
   "pygments_lexer": "ipython3",
   "version": "3.6.4"
  }
 },
 "nbformat": 4,
 "nbformat_minor": 2
}
