{
 "cells": [
  {
   "cell_type": "code",
   "execution_count": 16,
   "metadata": {},
   "outputs": [
    {
     "name": "stdout",
     "output_type": "stream",
     "text": [
      "3 6\n",
      "1 2 2\n",
      "4\n"
     ]
    }
   ],
   "source": [
    "def main():\n",
    "    N, X = map(int, input().split())\n",
    "    L = list(map(int, input().split()))\n",
    "    D = 0\n",
    "    i = 0\n",
    "    while True:\n",
    "        D += L[i]\n",
    "        i += 1\n",
    "        if D > X:\n",
    "            print(i)\n",
    "            return\n",
    "        if i == N:\n",
    "            print(i+1)\n",
    "            return\n",
    "\n",
    "if __name__ == '__main__':\n",
    "    main()"
   ]
  }
 ],
 "metadata": {
  "kernelspec": {
   "display_name": "Python 3",
   "language": "python",
   "name": "python3"
  },
  "language_info": {
   "codemirror_mode": {
    "name": "ipython",
    "version": 3
   },
   "file_extension": ".py",
   "mimetype": "text/x-python",
   "name": "python",
   "nbconvert_exporter": "python",
   "pygments_lexer": "ipython3",
   "version": "3.6.4"
  }
 },
 "nbformat": 4,
 "nbformat_minor": 2
}
