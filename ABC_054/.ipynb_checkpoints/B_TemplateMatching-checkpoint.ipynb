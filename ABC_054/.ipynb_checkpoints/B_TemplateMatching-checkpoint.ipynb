{
 "cells": [
  {
   "cell_type": "code",
   "execution_count": null,
   "metadata": {},
   "outputs": [],
   "source": [
    "N, M = map(int, input().split())\n",
    "A_list = [input() for i in range(N)]\n",
    "B_list = [input() for i in range(M)]\n",
    "all_segment = []\n",
    "\n",
    "for width in range(N - M + 1):\n",
    "    for height in range(N - M + 1):\n",
    "        segment = [width_list[width: width + M] for width_list in A_list[height: height + M]]\n",
    "        all_segment.append(segment)\n",
    "        \n",
    "if B_list in all_segment:\n",
    "    print('Yes')\n",
    "else:\n",
    "    print('No')"
   ]
  },
  {
   "cell_type": "code",
   "execution_count": null,
   "metadata": {},
   "outputs": [],
   "source": []
  }
 ],
 "metadata": {
  "kernelspec": {
   "display_name": "Python 3",
   "language": "python",
   "name": "python3"
  },
  "language_info": {
   "codemirror_mode": {
    "name": "ipython",
    "version": 3
   },
   "file_extension": ".py",
   "mimetype": "text/x-python",
   "name": "python",
   "nbconvert_exporter": "python",
   "pygments_lexer": "ipython3",
   "version": "3.6.4"
  }
 },
 "nbformat": 4,
 "nbformat_minor": 2
}
