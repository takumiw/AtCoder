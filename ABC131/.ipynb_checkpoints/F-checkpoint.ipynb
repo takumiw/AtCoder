{
 "cells": [
  {
   "cell_type": "code",
   "execution_count": 11,
   "metadata": {},
   "outputs": [
    {
     "name": "stdout",
     "output_type": "stream",
     "text": [
      "3\n",
      "1 1\n",
      "5 1\n",
      "5 5\n",
      "[(1, 1), (5, 1), (5, 5)]\n"
     ]
    }
   ],
   "source": [
    "N = int(input())\n",
    "coordinate = [tuple(map(int, input().split())) for _ in range(N)]\n",
    "\n",
    "print(coordinate)"
   ]
  }
 ],
 "metadata": {
  "kernelspec": {
   "display_name": "Python 3",
   "language": "python",
   "name": "python3"
  },
  "language_info": {
   "codemirror_mode": {
    "name": "ipython",
    "version": 3
   },
   "file_extension": ".py",
   "mimetype": "text/x-python",
   "name": "python",
   "nbconvert_exporter": "python",
   "pygments_lexer": "ipython3",
   "version": "3.6.4"
  }
 },
 "nbformat": 4,
 "nbformat_minor": 2
}
