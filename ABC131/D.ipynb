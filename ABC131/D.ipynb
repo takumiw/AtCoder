{
 "cells": [
  {
   "cell_type": "code",
   "execution_count": null,
   "metadata": {},
   "outputs": [],
   "source": [
    "import sys\n",
    "from operator import itemgetter\n",
    "input = sys.stdin.readline\n",
    "\n",
    "def main():\n",
    "    N = int(input())\n",
    "    tasks = [tuple(map(int, input().split())) for _ in range(N)]\n",
    "    tasks.sort(key=itemgetter(1))\n",
    "    start = 0\n",
    "\n",
    "    for task in tasks:\n",
    "        if start + task[0] > task[1]:\n",
    "            print('No')\n",
    "            return\n",
    "        start += task[0]\n",
    "\n",
    "    print('Yes')\n",
    "    return\n",
    "\n",
    "if __name__ == '__main__':\n",
    "    main()"
   ]
  }
 ],
 "metadata": {
  "kernelspec": {
   "display_name": "Python 3",
   "language": "python",
   "name": "python3"
  },
  "language_info": {
   "codemirror_mode": {
    "name": "ipython",
    "version": 3
   },
   "file_extension": ".py",
   "mimetype": "text/x-python",
   "name": "python",
   "nbconvert_exporter": "python",
   "pygments_lexer": "ipython3",
   "version": "3.6.4"
  }
 },
 "nbformat": 4,
 "nbformat_minor": 2
}
