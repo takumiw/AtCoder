{
 "cells": [
  {
   "cell_type": "markdown",
   "metadata": {},
   "source": [
    "尺取り虫アルゴリズム"
   ]
  },
  {
   "cell_type": "code",
   "execution_count": 16,
   "metadata": {},
   "outputs": [
    {
     "name": "stdout",
     "output_type": "stream",
     "text": [
      "4 0\n",
      "1\n",
      "2\n",
      "3\n",
      "4\n",
      "0\n"
     ]
    }
   ],
   "source": [
    "import sys\n",
    "input = sys.stdin.readline\n",
    "\n",
    "def main():\n",
    "    N, K = map(int, input().split())\n",
    "    sequence = [int(input()) for _ in range(N)]\n",
    "    \n",
    "    max_length = 0\n",
    "    right = 0\n",
    "    mult_value = 1\n",
    "    \n",
    "    for left in range(N):\n",
    "        while right < N and mult_value * sequence[right] <= K:\n",
    "            if sequence[right] == 0:\n",
    "                print(N)\n",
    "                return\n",
    "            mult_value *= sequence[right]\n",
    "            right += 1\n",
    "        max_length = max(max_length, right - left)\n",
    "        if left == right:\n",
    "            right += 1\n",
    "        else:\n",
    "            mult_value //= sequence[left]\n",
    "    print(max_length)\n",
    "    \n",
    "if __name__ == '__main__':\n",
    "    main()"
   ]
  }
 ],
 "metadata": {
  "kernelspec": {
   "display_name": "Python 3",
   "language": "python",
   "name": "python3"
  },
  "language_info": {
   "codemirror_mode": {
    "name": "ipython",
    "version": 3
   },
   "file_extension": ".py",
   "mimetype": "text/x-python",
   "name": "python",
   "nbconvert_exporter": "python",
   "pygments_lexer": "ipython3",
   "version": "3.6.4"
  }
 },
 "nbformat": 4,
 "nbformat_minor": 2
}
