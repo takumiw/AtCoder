{
 "cells": [
  {
   "cell_type": "code",
   "execution_count": 23,
   "metadata": {},
   "outputs": [
    {
     "name": "stdout",
     "output_type": "stream",
     "text": [
      "10 53462\n",
      "103 35322 232 342 21099 90000 18843 9010 35221 19352\n",
      "36\n"
     ]
    }
   ],
   "source": [
    "N, K = map(int, input().split())\n",
    "A = list(map(int, input().split()))\n",
    "\n",
    "count = 0\n",
    "right = 0\n",
    "res = 0\n",
    "\n",
    "for left in range(N):\n",
    "    if res >= K:\n",
    "        count += N - right + 1\n",
    "        res -= A[left]\n",
    "        continue\n",
    "    \n",
    "    while right < N:\n",
    "        res += A[right]\n",
    "        right += 1\n",
    "    \n",
    "        if res >= K:\n",
    "            count += N - right + 1\n",
    "            res -= A[left]\n",
    "            break\n",
    "        \n",
    "print(count)"
   ]
  },
  {
   "cell_type": "code",
   "execution_count": null,
   "metadata": {},
   "outputs": [],
   "source": []
  }
 ],
 "metadata": {
  "kernelspec": {
   "display_name": "Python 3",
   "language": "python",
   "name": "python3"
  },
  "language_info": {
   "codemirror_mode": {
    "name": "ipython",
    "version": 3
   },
   "file_extension": ".py",
   "mimetype": "text/x-python",
   "name": "python",
   "nbconvert_exporter": "python",
   "pygments_lexer": "ipython3",
   "version": "3.6.4"
  }
 },
 "nbformat": 4,
 "nbformat_minor": 2
}
