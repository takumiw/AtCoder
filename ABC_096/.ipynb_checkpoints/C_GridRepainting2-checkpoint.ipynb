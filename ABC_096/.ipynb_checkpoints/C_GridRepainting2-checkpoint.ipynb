{
 "cells": [
  {
   "cell_type": "code",
   "execution_count": 6,
   "metadata": {},
   "outputs": [
    {
     "name": "stdout",
     "output_type": "stream",
     "text": [
      "3 3\n",
      ".#.\n",
      "###\n",
      ".#.\n",
      "[['.', '.', '.', '.', '.'], ['.', '.', '#', '.', '.'], ['.', '#', '#', '#', '.'], ['.', '.', '#', '.', '.'], ['.', '.', '.', '.', '.']]\n",
      "Yes\n"
     ]
    }
   ],
   "source": [
    "import sys\n",
    "H, W = map(int, input().split())\n",
    "grid = [list('.' + input() + '.') for _ in range(H)]\n",
    "grid = [['.' for _ in range(W + 2)]] + grid + [['.' for _ in range(W + 2)]]\n",
    "#print(grid)\n",
    "\n",
    "for i, row in enumerate(grid[1: -1]):\n",
    "    for j, s in enumerate(row[1: -1]):\n",
    "        if s == '.':\n",
    "            continue\n",
    "        if grid[i + 1][j] == '#' or  grid[i +1][j + 2] == '#' or grid[i][j + 1] == '#' or  grid[i +2][j + 1] == '#':\n",
    "            continue\n",
    "        print('No')\n",
    "        sys.exit()\n",
    "print('Yes')"
   ]
  },
  {
   "cell_type": "code",
   "execution_count": null,
   "metadata": {},
   "outputs": [],
   "source": []
  }
 ],
 "metadata": {
  "kernelspec": {
   "display_name": "Python 3",
   "language": "python",
   "name": "python3"
  },
  "language_info": {
   "codemirror_mode": {
    "name": "ipython",
    "version": 3
   },
   "file_extension": ".py",
   "mimetype": "text/x-python",
   "name": "python",
   "nbconvert_exporter": "python",
   "pygments_lexer": "ipython3",
   "version": "3.6.4"
  }
 },
 "nbformat": 4,
 "nbformat_minor": 2
}
