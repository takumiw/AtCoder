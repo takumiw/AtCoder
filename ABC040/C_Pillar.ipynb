{
 "cells": [
  {
   "cell_type": "markdown",
   "metadata": {},
   "source": [
    "動的計画法(DP: Dynamic Programming)"
   ]
  },
  {
   "cell_type": "code",
   "execution_count": 34,
   "metadata": {},
   "outputs": [
    {
     "name": "stdout",
     "output_type": "stream",
     "text": [
      "9\n",
      "314 159 265 358 979 323 846 264 338\n",
      "310\n"
     ]
    }
   ],
   "source": [
    "def main():\n",
    "    num_bars = int(input())\n",
    "    height_list = list(map(int, input().split()))\n",
    "    dp = [0 for i in range(num_bars)]\n",
    "    dp[0] = 0\n",
    "    dp[1] = abs(height_list[0] - height_list[1])\n",
    "    for i in range(2, num_bars):\n",
    "        dp[i] = min(dp[i - 1] + abs(height_list[i - 1]  - height_list[i]), dp[i - 2] + abs(height_list[i - 2]  - height_list[i]))\n",
    "    print(dp[-1])\n",
    "    \n",
    "if __name__ == '__main__':\n",
    "    main()"
   ]
  },
  {
   "cell_type": "code",
   "execution_count": null,
   "metadata": {},
   "outputs": [],
   "source": []
  }
 ],
 "metadata": {
  "kernelspec": {
   "display_name": "Python 3",
   "language": "python",
   "name": "python3"
  },
  "language_info": {
   "codemirror_mode": {
    "name": "ipython",
    "version": 3
   },
   "file_extension": ".py",
   "mimetype": "text/x-python",
   "name": "python",
   "nbconvert_exporter": "python",
   "pygments_lexer": "ipython3",
   "version": "3.6.4"
  }
 },
 "nbformat": 4,
 "nbformat_minor": 2
}
