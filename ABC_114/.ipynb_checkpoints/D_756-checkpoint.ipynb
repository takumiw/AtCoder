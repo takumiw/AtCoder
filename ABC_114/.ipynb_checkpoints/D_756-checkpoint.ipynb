{
 "cells": [
  {
   "cell_type": "code",
   "execution_count": 3,
   "metadata": {},
   "outputs": [
    {
     "name": "stdout",
     "output_type": "stream",
     "text": [
      "10\n",
      "0\n"
     ]
    }
   ],
   "source": [
    "def count_soinsu(N, M):\n",
    "    ans = 0\n",
    "    for i in range(1, M + 1):\n",
    "        ans += N // (M ** i)\n",
    "    return ans\n",
    "\n",
    "N = int(input())\n",
    "ans = 0\n",
    "for i in range(10, N):\n",
    "    num_yakusuu = 0\n",
    "    for j in range(2, i):\n",
    "        num_yakusuu *= (count_soinsu(i, j) + 1)\n",
    "    if num_yakusuu == 75:\n",
    "        ans += 1\n",
    "print(ans)"
   ]
  },
  {
   "cell_type": "code",
   "execution_count": null,
   "metadata": {},
   "outputs": [],
   "source": []
  }
 ],
 "metadata": {
  "kernelspec": {
   "display_name": "Python 3",
   "language": "python",
   "name": "python3"
  },
  "language_info": {
   "codemirror_mode": {
    "name": "ipython",
    "version": 3
   },
   "file_extension": ".py",
   "mimetype": "text/x-python",
   "name": "python",
   "nbconvert_exporter": "python",
   "pygments_lexer": "ipython3",
   "version": "3.6.4"
  }
 },
 "nbformat": 4,
 "nbformat_minor": 2
}
