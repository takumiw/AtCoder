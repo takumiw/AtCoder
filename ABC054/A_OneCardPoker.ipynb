{
 "cells": [
  {
   "cell_type": "code",
   "execution_count": 3,
   "metadata": {},
   "outputs": [
    {
     "name": "stdout",
     "output_type": "stream",
     "text": [
      "13 1\n",
      "Bob\n"
     ]
    }
   ],
   "source": [
    "A, B = map(int, input().split())\n",
    "if A == B:\n",
    "    winner = 'Draw'\n",
    "elif A == 1:\n",
    "    winner = 'Alice'\n",
    "elif B == 1:\n",
    "    winner = 'Bob'\n",
    "elif A > B:\n",
    "    winner = 'Alice'\n",
    "else:\n",
    "    winner = 'Bob'\n",
    "\n",
    "print(winner)"
   ]
  },
  {
   "cell_type": "code",
   "execution_count": null,
   "metadata": {},
   "outputs": [],
   "source": []
  }
 ],
 "metadata": {
  "kernelspec": {
   "display_name": "Python 3",
   "language": "python",
   "name": "python3"
  },
  "language_info": {
   "codemirror_mode": {
    "name": "ipython",
    "version": 3
   },
   "file_extension": ".py",
   "mimetype": "text/x-python",
   "name": "python",
   "nbconvert_exporter": "python",
   "pygments_lexer": "ipython3",
   "version": "3.6.4"
  }
 },
 "nbformat": 4,
 "nbformat_minor": 2
}
