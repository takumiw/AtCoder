{
 "cells": [
  {
   "cell_type": "code",
   "execution_count": null,
   "metadata": {},
   "outputs": [],
   "source": [
    "import sys\n",
    "n_shops, n_drinks = map(int, input().split())\n",
    "shop_info = sorted([tuple(map(int, line.split())) for line in sys.stdin.readlines()])\n",
    "cost = 0\n",
    "purchased_n_drinks = 0\n",
    "for _ in range(len(shop_info)):\n",
    "    info = shop_info.pop(0)\n",
    "    if (purchased_n_drinks + info[1]) >= n_drinks:\n",
    "        cost += ( n_drinks - purchased_n_drinks) * info[0]\n",
    "        break\n",
    "    purchased_n_drinks += info[1]\n",
    "    cost += info[0] * info[1]\n",
    "print(cost)"
   ]
  }
 ],
 "metadata": {
  "kernelspec": {
   "display_name": "Python 3",
   "language": "python",
   "name": "python3"
  },
  "language_info": {
   "codemirror_mode": {
    "name": "ipython",
    "version": 3
   },
   "file_extension": ".py",
   "mimetype": "text/x-python",
   "name": "python",
   "nbconvert_exporter": "python",
   "pygments_lexer": "ipython3",
   "version": "3.6.4"
  }
 },
 "nbformat": 4,
 "nbformat_minor": 2
}
