{
 "cells": [
  {
   "cell_type": "markdown",
   "metadata": {},
   "source": [
    "##### B: Tribonacci Series  \n",
    "---  \n",
    "*execution time*  \n",
    "input size:　time  \n",
    "1000000 : 0.19954609870910645[sec]"
   ]
  },
  {
   "cell_type": "code",
   "execution_count": 22,
   "metadata": {},
   "outputs": [
    {
     "name": "stdout",
     "output_type": "stream",
     "text": [
      "1000000\n",
      "2576\n",
      "elapsed_time:0.19954609870910645[sec]\n"
     ]
    }
   ],
   "source": [
    "import time\n",
    "import numpy as np\n",
    "from past.builtins import xrange\n",
    "quotient = 10007\n",
    "\n",
    "def solve(n_term):\n",
    "    if n_term < 3:\n",
    "        return 0\n",
    "    term0, term1, term2 = 0, 0, 1 #first_term, second_term, third_term\n",
    "    \n",
    "    for i in xrange(3, n_term):\n",
    "        if i % 1000 == 0:\n",
    "            term0, term1, term2 = term1% quotient, term2 % quotient, (term0 + term1+ term2) % quotient\n",
    "            continue\n",
    "        term0, term1, term2 = term1, term2, term0 + term1+ term2\n",
    "    \n",
    "    return term2 % quotient\n",
    "\n",
    "def main():\n",
    "    n_term = int(input().rstrip())\n",
    "    start = time.time()\n",
    "    print(solve(n_term))\n",
    "    \n",
    "    elapsed_time = time.time() - start\n",
    "    print (\"elapsed_time:{0}\".format(elapsed_time) + \"[sec]\")\n",
    "    return\n",
    "\n",
    "if __name__ == '__main__':\n",
    "    main()"
   ]
  },
  {
   "cell_type": "code",
   "execution_count": null,
   "metadata": {},
   "outputs": [],
   "source": []
  }
 ],
 "metadata": {
  "kernelspec": {
   "display_name": "Python 3",
   "language": "python",
   "name": "python3"
  },
  "language_info": {
   "codemirror_mode": {
    "name": "ipython",
    "version": 3
   },
   "file_extension": ".py",
   "mimetype": "text/x-python",
   "name": "python",
   "nbconvert_exporter": "python",
   "pygments_lexer": "ipython3",
   "version": "3.6.4"
  }
 },
 "nbformat": 4,
 "nbformat_minor": 2
}
