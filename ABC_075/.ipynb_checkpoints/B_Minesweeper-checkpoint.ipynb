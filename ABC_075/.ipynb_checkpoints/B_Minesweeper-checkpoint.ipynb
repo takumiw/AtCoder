{
 "cells": [
  {
   "cell_type": "code",
   "execution_count": null,
   "metadata": {},
   "outputs": [],
   "source": [
    "H, W = map(int, input().split())\n",
    "all_info = [list('.' + input() + '.') for i in range(H)]\n",
    "all_info = [['.' for i in range(W+2)]] + all_info + [['.' for i in range(W+2)]]\n",
    "\n",
    "for row_num, padded_row in enumerate(all_info[1: -1]):\n",
    "    for collumn_num, s in enumerate(padded_row[1: -1]):\n",
    "        if s == '#':\n",
    "            continue\n",
    "        else:\n",
    "            all_info[row_num + 1][collumn_num + 1] = str((all_info[row_num][collumn_num: collumn_num +3]\n",
    "                                                                                     + all_info[row_num + 2][collumn_num: collumn_num + 3]\n",
    "                                                                                     + all_info[row_num + 1][collumn_num: collumn_num + 3]).count('#'))\n",
    "\n",
    "for row in all_info[1: -1]:\n",
    "    print(''.join(row[1: -1]))"
   ]
  }
 ],
 "metadata": {
  "kernelspec": {
   "display_name": "Python 3",
   "language": "python",
   "name": "python3"
  },
  "language_info": {
   "codemirror_mode": {
    "name": "ipython",
    "version": 3
   },
   "file_extension": ".py",
   "mimetype": "text/x-python",
   "name": "python",
   "nbconvert_exporter": "python",
   "pygments_lexer": "ipython3",
   "version": "3.6.4"
  }
 },
 "nbformat": 4,
 "nbformat_minor": 2
}
