{
 "cells": [
  {
   "cell_type": "code",
   "execution_count": null,
   "metadata": {},
   "outputs": [],
   "source": [
    "N, K = map(int, input().split())\n",
    "heights = sorted([int(input()) for _ in range(N)])\n",
    "ans = float('inf')\n",
    "for i in range(N - K + 1):\n",
    "    if abs(heights[i] - heights[i + K - 1]) < ans:\n",
    "        ans = abs(heights[i] - heights[i + K - 1])\n",
    "print(ans)"
   ]
  },
  {
   "cell_type": "code",
   "execution_count": null,
   "metadata": {},
   "outputs": [],
   "source": []
  },
  {
   "cell_type": "markdown",
   "metadata": {},
   "source": [
    "Below is faster, but doesn't work on Jupyter Notebook"
   ]
  },
  {
   "cell_type": "code",
   "execution_count": null,
   "metadata": {},
   "outputs": [],
   "source": [
    "import sys\n",
    "input = sys.stdin.readline\n",
    "N, K = map(int, input().split())\n",
    "heights = sorted([int(input()) for _ in range(N)])\n",
    "ans = float('inf')\n",
    "for i in range(N - K + 1):\n",
    "    if abs(heights[i] - heights[i + K - 1]) < ans:\n",
    "        ans = abs(heights[i] - heights[i + K - 1])\n",
    "print(ans)"
   ]
  }
 ],
 "metadata": {
  "kernelspec": {
   "display_name": "Python 3",
   "language": "python",
   "name": "python3"
  },
  "language_info": {
   "codemirror_mode": {
    "name": "ipython",
    "version": 3
   },
   "file_extension": ".py",
   "mimetype": "text/x-python",
   "name": "python",
   "nbconvert_exporter": "python",
   "pygments_lexer": "ipython3",
   "version": "3.6.4"
  }
 },
 "nbformat": 4,
 "nbformat_minor": 2
}
