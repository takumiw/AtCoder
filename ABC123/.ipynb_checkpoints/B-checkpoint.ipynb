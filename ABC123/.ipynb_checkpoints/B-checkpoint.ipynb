{
 "cells": [
  {
   "cell_type": "code",
   "execution_count": 40,
   "metadata": {},
   "outputs": [
    {
     "name": "stdout",
     "output_type": "stream",
     "text": [
      "10\n",
      "10\n",
      "10\n",
      "10\n",
      "10\n",
      "0 0\n",
      "[0, 0, 0, 0, 0]\n",
      "a False\n",
      "50\n"
     ]
    }
   ],
   "source": [
    "times = [int(input()) for i in range(5)]\n",
    "cost = 0\n",
    "p_times = [time % 10 for time in times]\n",
    "\n",
    "if (sum([i % 10 for i in p_times]) == 0) & (min(times) > 0):\n",
    "    last_order = False\n",
    "else:\n",
    "    last_order = min([i for i in p_times if i > 0])\n",
    "    last_order_idx = p_times.index(last_order)\n",
    "\n",
    "if last_order:\n",
    "    cost = times.pop(last_order_idx)\n",
    "\n",
    "print(sum(p_times), min(p_times))\n",
    "print(p_times)\n",
    "print('a', last_order)\n",
    "\n",
    "for time in times:\n",
    "    if time % 10 == 0:\n",
    "        cost += time\n",
    "    else:\n",
    "        cost += time + (10 - time % 10)\n",
    "\n",
    "print(cost)"
   ]
  }
 ],
 "metadata": {
  "kernelspec": {
   "display_name": "Python 3",
   "language": "python",
   "name": "python3"
  },
  "language_info": {
   "codemirror_mode": {
    "name": "ipython",
    "version": 3
   },
   "file_extension": ".py",
   "mimetype": "text/x-python",
   "name": "python",
   "nbconvert_exporter": "python",
   "pygments_lexer": "ipython3",
   "version": "3.6.4"
  }
 },
 "nbformat": 4,
 "nbformat_minor": 2
}
