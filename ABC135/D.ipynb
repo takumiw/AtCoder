{
 "cells": [
  {
   "cell_type": "code",
   "execution_count": 8,
   "metadata": {
    "scrolled": true
   },
   "outputs": [
    {
     "name": "stdout",
     "output_type": "stream",
     "text": [
      "15\n",
      "5 5\n",
      "15 2\n",
      "25 12\n",
      "35 9\n",
      "45 6\n",
      "55 3\n",
      "65 0\n",
      "75 10\n",
      "85 7\n",
      "95 4\n",
      "105 1\n",
      "115 11\n",
      "125 8\n",
      "1 1\n",
      "11 11\n",
      "21 8\n",
      "31 5\n",
      "41 2\n",
      "51 12\n",
      "61 9\n",
      "71 6\n",
      "81 3\n",
      "91 0\n",
      "101 10\n",
      "111 7\n",
      "121 4\n",
      "[[1, 0, 0, 0, 0, 0, 0, 0, 0, 0, 0, 0, 0], [0, 0, 0, 0, 0, 1, 0, 0, 0, 0, 0, 0, 0], [0, 0, 0, 0, 0, 0, 0, 0, 0, 0, 0, 0, 1]]\n",
      "0\n"
     ]
    }
   ],
   "source": [
    "S = input()\n",
    "S = ''.join(list(reversed(S)))\n",
    "# print(S)\n",
    "S_LENGTH = len(S)\n",
    "mod = 10**9+7\n",
    "dp = [[0 for j in range(13)] for i in range(S_LENGTH+1)]\n",
    "dp[0][0]=1 #初期値の設定\n",
    "for i in range(S_LENGTH):\n",
    "    if S[i]=='?': #?のときは各値(0～9)について更新する\n",
    "        for j in range(10):\n",
    "            for k in range(13):\n",
    "                dp[i+1][(k*10+j)%13]+=dp[i][k]%mod\n",
    "    else:\n",
    "        for k in range(13): #整数のときはその値について更新する\n",
    "            print(k*10+int(S[i]), (k*10+int(S[i]))%13)\n",
    "            dp[i+1][(k*10+int(S[i]))%13]+=dp[i][k]%mod\n",
    "print(dp)\n",
    "print(dp[-1][5]%mod) #最後まで更新を行ったときのあまりが5となる数の個数が答え"
   ]
  },
  {
   "cell_type": "code",
   "execution_count": null,
   "metadata": {},
   "outputs": [],
   "source": []
  },
  {
   "cell_type": "code",
   "execution_count": 8,
   "metadata": {},
   "outputs": [
    {
     "name": "stdout",
     "output_type": "stream",
     "text": [
      "??2??5\n",
      "768\n"
     ]
    }
   ],
   "source": [
    "s=input()\n",
    "l=len(s)\n",
    "mod=10**9+7\n",
    "dp=[[0 for j in range(13)] for i in range(l+1)]\n",
    "dp[0][0]=1 #初期値の設定\n",
    "for i in range(l):\n",
    "    if s[i]=='?': #?のときは各値(0～9)について更新する\n",
    "        for j in range(10):\n",
    "            for k in range(13):\n",
    "                dp[i+1][(k*10+j)%13]+=dp[i][k]%mod\n",
    "    else:\n",
    "        for k in range(13): #整数のときはその値について更新する\n",
    "             dp[i+1][(k*10+int(s[i]))%13]+=dp[i][k]%mod\n",
    "print(dp[-1][5]%mod) #最後まで更新を行ったときのあまりが5となる数の個数が答え"
   ]
  },
  {
   "cell_type": "code",
   "execution_count": null,
   "metadata": {},
   "outputs": [],
   "source": []
  },
  {
   "cell_type": "code",
   "execution_count": 27,
   "metadata": {},
   "outputs": [
    {
     "name": "stdout",
     "output_type": "stream",
     "text": [
      "?6?42???\n",
      "7693\n",
      "12.480991125106812\n"
     ]
    }
   ],
   "source": [
    "import time\n",
    "S = list(input())\n",
    "start_time = time.time()\n",
    "# q_idxes = [i for i, x in enumerate(S) if x == '?']\n",
    "# start = 5\n",
    "start = int(''.join(S).replace('?', '0'))\n",
    "start = start + 5 - start % 13\n",
    "end = int(''.join(S).replace('?', '9'))\n",
    "cnt = 0\n",
    "# print()\n",
    "# print(S)\n",
    "for i in range(start, end+1, 13):\n",
    "    target = list(str(i))\n",
    "    # print(target)\n",
    "    for j in range(len(S)):\n",
    "        if S[j] == '?':\n",
    "            continue\n",
    "        if S[j] != target[j-(len(S)-len(target))]:\n",
    "            break\n",
    "    else:\n",
    "        cnt += 1\n",
    "        # print(i)\n",
    "    cnt %= (10**9+7)\n",
    "print(cnt)\n",
    "print(time.time() - start_time)"
   ]
  },
  {
   "cell_type": "code",
   "execution_count": null,
   "metadata": {},
   "outputs": [],
   "source": []
  },
  {
   "cell_type": "code",
   "execution_count": 28,
   "metadata": {},
   "outputs": [
    {
     "data": {
      "text/plain": [
       "2007"
      ]
     },
     "execution_count": 28,
     "metadata": {},
     "output_type": "execute_result"
    }
   ],
   "source": [
    "2005 + 5 - 2005 % 13"
   ]
  },
  {
   "cell_type": "code",
   "execution_count": 48,
   "metadata": {},
   "outputs": [
    {
     "name": "stdout",
     "output_type": "stream",
     "text": [
      "102015\n",
      "102145\n",
      "102275\n",
      "102405\n",
      "102535\n",
      "102665\n",
      "102795\n",
      "102925\n",
      "112025\n",
      "112155\n",
      "112285\n",
      "112415\n",
      "112545\n",
      "112675\n",
      "112805\n",
      "112935\n",
      "122035\n",
      "122165\n",
      "122295\n",
      "122425\n",
      "122555\n",
      "122685\n",
      "122815\n",
      "122945\n",
      "132045\n",
      "132175\n",
      "132305\n",
      "132435\n",
      "132565\n",
      "132695\n",
      "132825\n",
      "132955\n",
      "142055\n",
      "142185\n",
      "142315\n",
      "142445\n",
      "142575\n",
      "142705\n",
      "142835\n",
      "142965\n",
      "152065\n",
      "152195\n",
      "152325\n",
      "152455\n",
      "152585\n",
      "152715\n",
      "152845\n",
      "152975\n",
      "162075\n",
      "162205\n",
      "162335\n",
      "162465\n",
      "162595\n",
      "162725\n",
      "162855\n",
      "162985\n",
      "172085\n",
      "172215\n",
      "172345\n",
      "172475\n",
      "172605\n",
      "172735\n",
      "172865\n",
      "172995\n",
      "182095\n",
      "182225\n",
      "182355\n",
      "182485\n",
      "182615\n",
      "182745\n",
      "182875\n",
      "192105\n",
      "192235\n",
      "192365\n",
      "192495\n",
      "192625\n",
      "192755\n",
      "192885\n"
     ]
    }
   ],
   "source": [
    "for i in range(100000, 200000, 13):\n",
    "    # print(i)\n",
    "    t = list(str(i))\n",
    "    # print(t)\n",
    "    if t[-4] == '2' and t[-1] == '5':\n",
    "        print(i)"
   ]
  },
  {
   "cell_type": "code",
   "execution_count": 38,
   "metadata": {},
   "outputs": [
    {
     "ename": "IndexError",
     "evalue": "list index out of range",
     "output_type": "error",
     "traceback": [
      "\u001b[0;31m---------------------------------------------------------------------------\u001b[0m",
      "\u001b[0;31mIndexError\u001b[0m                                Traceback (most recent call last)",
      "\u001b[0;32m<ipython-input-38-d8ee4008211f>\u001b[0m in \u001b[0;36m<module>\u001b[0;34m()\u001b[0m\n\u001b[0;32m----> 1\u001b[0;31m \u001b[0ma\u001b[0m \u001b[0;34m=\u001b[0m \u001b[0;34m[\u001b[0m\u001b[0mi\u001b[0m \u001b[0;32mfor\u001b[0m \u001b[0mi\u001b[0m \u001b[0;32min\u001b[0m \u001b[0mrange\u001b[0m\u001b[0;34m(\u001b[0m\u001b[0;36m2007\u001b[0m\u001b[0;34m,\u001b[0m \u001b[0;36m3000\u001b[0m\u001b[0;34m,\u001b[0m \u001b[0;36m13\u001b[0m\u001b[0;34m)\u001b[0m \u001b[0;32mif\u001b[0m \u001b[0mlist\u001b[0m\u001b[0;34m(\u001b[0m\u001b[0mstr\u001b[0m\u001b[0;34m(\u001b[0m\u001b[0mi\u001b[0m\u001b[0;34m)\u001b[0m\u001b[0;34m)\u001b[0m\u001b[0;34m[\u001b[0m\u001b[0;36m2\u001b[0m\u001b[0;34m]\u001b[0m\u001b[0;34m==\u001b[0m\u001b[0;34m'2'\u001b[0m \u001b[0;32mand\u001b[0m \u001b[0mlist\u001b[0m\u001b[0;34m(\u001b[0m\u001b[0mstr\u001b[0m\u001b[0;34m(\u001b[0m\u001b[0mi\u001b[0m\u001b[0;34m)\u001b[0m\u001b[0;34m)\u001b[0m\u001b[0;34m[\u001b[0m\u001b[0;36m5\u001b[0m\u001b[0;34m]\u001b[0m\u001b[0;34m==\u001b[0m\u001b[0;34m'5'\u001b[0m\u001b[0;34m]\u001b[0m\u001b[0;34m\u001b[0m\u001b[0m\n\u001b[0m",
      "\u001b[0;32m<ipython-input-38-d8ee4008211f>\u001b[0m in \u001b[0;36m<listcomp>\u001b[0;34m(.0)\u001b[0m\n\u001b[0;32m----> 1\u001b[0;31m \u001b[0ma\u001b[0m \u001b[0;34m=\u001b[0m \u001b[0;34m[\u001b[0m\u001b[0mi\u001b[0m \u001b[0;32mfor\u001b[0m \u001b[0mi\u001b[0m \u001b[0;32min\u001b[0m \u001b[0mrange\u001b[0m\u001b[0;34m(\u001b[0m\u001b[0;36m2007\u001b[0m\u001b[0;34m,\u001b[0m \u001b[0;36m3000\u001b[0m\u001b[0;34m,\u001b[0m \u001b[0;36m13\u001b[0m\u001b[0;34m)\u001b[0m \u001b[0;32mif\u001b[0m \u001b[0mlist\u001b[0m\u001b[0;34m(\u001b[0m\u001b[0mstr\u001b[0m\u001b[0;34m(\u001b[0m\u001b[0mi\u001b[0m\u001b[0;34m)\u001b[0m\u001b[0;34m)\u001b[0m\u001b[0;34m[\u001b[0m\u001b[0;36m2\u001b[0m\u001b[0;34m]\u001b[0m\u001b[0;34m==\u001b[0m\u001b[0;34m'2'\u001b[0m \u001b[0;32mand\u001b[0m \u001b[0mlist\u001b[0m\u001b[0;34m(\u001b[0m\u001b[0mstr\u001b[0m\u001b[0;34m(\u001b[0m\u001b[0mi\u001b[0m\u001b[0;34m)\u001b[0m\u001b[0;34m)\u001b[0m\u001b[0;34m[\u001b[0m\u001b[0;36m5\u001b[0m\u001b[0;34m]\u001b[0m\u001b[0;34m==\u001b[0m\u001b[0;34m'5'\u001b[0m\u001b[0;34m]\u001b[0m\u001b[0;34m\u001b[0m\u001b[0m\n\u001b[0m",
      "\u001b[0;31mIndexError\u001b[0m: list index out of range"
     ]
    }
   ],
   "source": [
    "a = [i for i in range(2007, 992995, 13) if list(str(i))[2]=='2' and list(str(i))[5]=='5']"
   ]
  },
  {
   "cell_type": "code",
   "execution_count": 44,
   "metadata": {},
   "outputs": [
    {
     "data": {
      "text/plain": [
       "392"
      ]
     },
     "execution_count": 44,
     "metadata": {},
     "output_type": "execute_result"
    }
   ],
   "source": [
    "8 * 7 ** 2"
   ]
  },
  {
   "cell_type": "code",
   "execution_count": null,
   "metadata": {},
   "outputs": [],
   "source": []
  }
 ],
 "metadata": {
  "kernelspec": {
   "display_name": "Python 3",
   "language": "python",
   "name": "python3"
  }
 },
 "nbformat": 4,
 "nbformat_minor": 2
}
