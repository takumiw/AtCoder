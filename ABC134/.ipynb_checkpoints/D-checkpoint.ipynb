{
 "cells": [
  {
   "cell_type": "code",
   "execution_count": 28,
   "metadata": {},
   "outputs": [
    {
     "name": "stdout",
     "output_type": "stream",
     "text": [
      "3\n",
      "1 0 0\n",
      "1\n",
      "1\n"
     ]
    }
   ],
   "source": [
    "import math\n",
    "\n",
    "def main():\n",
    "    N = int(input())\n",
    "    A = list(map(int, input().split()))\n",
    "    b = [None]*N\n",
    "    \n",
    "    for i in range(N, math.ceil(N/2), -1):\n",
    "        b[i-1] = A[i-1]\n",
    "    \n",
    "    for i in range(math.ceil(N/2), 0, -1):\n",
    "        s = sum([b[j-1] for j in range(2*i, N+1, i)])\n",
    "        b[i-1] = (A[i-1] + s) % 2\n",
    "        \n",
    "    b_out = [str(i+1) for i in range(N) if b[i] == 1]\n",
    "    print(sum(b))\n",
    "    print(' '.join(b_out))\n",
    "\n",
    "if __name__ == '__main__':\n",
    "    main()"
   ]
  }
 ],
 "metadata": {
  "kernelspec": {
   "display_name": "Python 3",
   "language": "python",
   "name": "python3"
  },
  "language_info": {
   "codemirror_mode": {
    "name": "ipython",
    "version": 3
   },
   "file_extension": ".py",
   "mimetype": "text/x-python",
   "name": "python",
   "nbconvert_exporter": "python",
   "pygments_lexer": "ipython3",
   "version": "3.6.4"
  }
 },
 "nbformat": 4,
 "nbformat_minor": 2
}
