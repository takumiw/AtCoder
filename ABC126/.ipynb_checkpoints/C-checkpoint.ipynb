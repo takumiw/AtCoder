{
 "cells": [
  {
   "cell_type": "code",
   "execution_count": 13,
   "metadata": {},
   "outputs": [
    {
     "name": "stdout",
     "output_type": "stream",
     "text": [
      "100000 100000\n",
      "0.33334324714644503\n"
     ]
    }
   ],
   "source": [
    "import math\n",
    "N, K = map(int, input().split())\n",
    "\n",
    "def func(dice):\n",
    "    if dice >= K:\n",
    "        return 1.0\n",
    "    return (1 / 2) ** math.ceil(math.log2(K / dice))\n",
    "\n",
    "l = [func(dice) / N for dice in range(1, N + 1)]\n",
    "print(sum(l))"
   ]
  },
  {
   "cell_type": "code",
   "execution_count": null,
   "metadata": {},
   "outputs": [],
   "source": []
  }
 ],
 "metadata": {
  "kernelspec": {
   "display_name": "Python 3",
   "language": "python",
   "name": "python3"
  },
  "language_info": {
   "codemirror_mode": {
    "name": "ipython",
    "version": 3
   },
   "file_extension": ".py",
   "mimetype": "text/x-python",
   "name": "python",
   "nbconvert_exporter": "python",
   "pygments_lexer": "ipython3",
   "version": "3.6.4"
  }
 },
 "nbformat": 4,
 "nbformat_minor": 2
}
