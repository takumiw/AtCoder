{
 "cells": [
  {
   "cell_type": "code",
   "execution_count": 12,
   "metadata": {},
   "outputs": [
    {
     "name": "stdout",
     "output_type": "stream",
     "text": [
      "30 -50\n",
      "-1044\n"
     ]
    },
    {
     "data": {
      "text/plain": [
       "'    \\nprint(tastes)\\nprint(apple_eaten)\\nprint(sum(tastes) - apple_eaten)'"
      ]
     },
     "execution_count": 12,
     "metadata": {},
     "output_type": "execute_result"
    }
   ],
   "source": [
    "N, L = map(int, input().split())\n",
    "tastes = [L + i - 1 for i in range(1, N+1)]\n",
    "apple_eaten = min([abs(t) for t in tastes])\n",
    "if apple_eaten in tastes:\n",
    "    print(sum(tastes) - apple_eaten)\n",
    "else:\n",
    "    print(sum(tastes) + apple_eaten)"
   ]
  },
  {
   "cell_type": "code",
   "execution_count": null,
   "metadata": {},
   "outputs": [],
   "source": []
  }
 ],
 "metadata": {
  "kernelspec": {
   "display_name": "Python 3",
   "language": "python",
   "name": "python3"
  },
  "language_info": {
   "codemirror_mode": {
    "name": "ipython",
    "version": 3
   },
   "file_extension": ".py",
   "mimetype": "text/x-python",
   "name": "python",
   "nbconvert_exporter": "python",
   "pygments_lexer": "ipython3",
   "version": "3.6.4"
  }
 },
 "nbformat": 4,
 "nbformat_minor": 2
}
