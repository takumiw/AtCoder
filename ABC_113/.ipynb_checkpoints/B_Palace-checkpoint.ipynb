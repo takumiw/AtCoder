{
 "cells": [
  {
   "cell_type": "markdown",
   "metadata": {},
   "source": [
    "##### B: Palace  \n",
    "---  \n",
    "*execution time*  \n",
    "N=1000: 0.0009400844573974609[sec]"
   ]
  },
  {
   "cell_type": "code",
   "execution_count": null,
   "metadata": {},
   "outputs": [],
   "source": [
    "def calc_average_temp(T, x):\n",
    "    return T - x * 0.006\n",
    "    \n",
    "def main():\n",
    "    num_palace = int(input().rstrip())\n",
    "    T, objective_temp = map(int, input().rstrip().split())\n",
    "    height_list = map(int, input().rstrip().split())\n",
    "    temp_list = []\n",
    "    \n",
    "    for h in height_list:\n",
    "        temp_list.append(abs(calc_average_temp(T, h) - objective_temp))\n",
    "        \n",
    "    print(temp_list.index(min(temp_list)) + 1)\n",
    "    \n",
    "    return\n",
    "    \n",
    "if __name__ == '__main__':\n",
    "    main()"
   ]
  },
  {
   "cell_type": "code",
   "execution_count": null,
   "metadata": {},
   "outputs": [],
   "source": []
  }
 ],
 "metadata": {
  "kernelspec": {
   "display_name": "Python 3",
   "language": "python",
   "name": "python3"
  },
  "language_info": {
   "codemirror_mode": {
    "name": "ipython",
    "version": 3
   },
   "file_extension": ".py",
   "mimetype": "text/x-python",
   "name": "python",
   "nbconvert_exporter": "python",
   "pygments_lexer": "ipython3",
   "version": "3.6.4"
  }
 },
 "nbformat": 4,
 "nbformat_minor": 2
}
