{
 "cells": [
  {
   "cell_type": "code",
   "execution_count": 8,
   "metadata": {},
   "outputs": [
    {
     "name": "stdout",
     "output_type": "stream",
     "text": [
      "0 75 25 100\n",
      "50\n"
     ]
    }
   ],
   "source": [
    "A_start, A_stop, B_start, B_stop = map(int, input().split())\n",
    "if A_start <= B_start:\n",
    "    if A_stop <= B_start:\n",
    "        time = 0\n",
    "    elif (A_stop > B_start) & (A_stop <= B_stop):\n",
    "        time = A_stop - B_start\n",
    "    else:\n",
    "        time = B_stop - B_start\n",
    "else:\n",
    "    if B_stop <= A_start:\n",
    "        time = 0\n",
    "    elif (B_stop > A_start) & (B_stop <= A_stop):\n",
    "        time = B_stop - A_start\n",
    "    else:\n",
    "        time = A_stop - A_start\n",
    "print(time)"
   ]
  },
  {
   "cell_type": "code",
   "execution_count": null,
   "metadata": {},
   "outputs": [],
   "source": []
  }
 ],
 "metadata": {
  "kernelspec": {
   "display_name": "Python 3",
   "language": "python",
   "name": "python3"
  },
  "language_info": {
   "codemirror_mode": {
    "name": "ipython",
    "version": 3
   },
   "file_extension": ".py",
   "mimetype": "text/x-python",
   "name": "python",
   "nbconvert_exporter": "python",
   "pygments_lexer": "ipython3",
   "version": "3.6.4"
  }
 },
 "nbformat": 4,
 "nbformat_minor": 2
}
