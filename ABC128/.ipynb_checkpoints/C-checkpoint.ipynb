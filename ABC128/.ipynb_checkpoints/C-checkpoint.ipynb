{
 "cells": [
  {
   "cell_type": "code",
   "execution_count": 19,
   "metadata": {},
   "outputs": [
    {
     "name": "stdout",
     "output_type": "stream",
     "text": [
      "1 1\n",
      "1 1\n",
      "1\n",
      "1\n"
     ]
    }
   ],
   "source": [
    "N, M = map(int, input().split())\n",
    "lights = [list(map(int, input().split())) for _ in range(M)]\n",
    "p_values = list(map(int, input().split()))\n",
    "\n",
    "switch_conbs = []\n",
    "for i in range(2 ** N):\n",
    "    conb = bin(i)[2:].zfill(N)\n",
    "    switch_conbs.append(list(map(int, list(conb))))\n",
    "\n",
    "for i, light in enumerate(lights):\n",
    "    temp = []\n",
    "    for switch_conb in switch_conbs:\n",
    "        s = 0\n",
    "        for v in light[1:]:\n",
    "            s += switch_conb[v - 1]\n",
    "        if s % 2 != p_values[i]:\n",
    "            temp.append(switch_conb)\n",
    "    \n",
    "    for l in temp:\n",
    "        switch_conbs.pop(switch_conbs.index(l))\n",
    "\n",
    "print(len(switch_conbs))"
   ]
  }
 ],
 "metadata": {
  "kernelspec": {
   "display_name": "Python 3",
   "language": "python",
   "name": "python3"
  },
  "language_info": {
   "codemirror_mode": {
    "name": "ipython",
    "version": 3
   },
   "file_extension": ".py",
   "mimetype": "text/x-python",
   "name": "python",
   "nbconvert_exporter": "python",
   "pygments_lexer": "ipython3",
   "version": "3.6.4"
  }
 },
 "nbformat": 4,
 "nbformat_minor": 2
}
