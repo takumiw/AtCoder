{
 "cells": [
  {
   "cell_type": "code",
   "execution_count": 13,
   "metadata": {},
   "outputs": [
    {
     "name": "stdout",
     "output_type": "stream",
     "text": [
      "3\n",
      "1 2 2\n",
      "2 3 1\n",
      "[[0, 2, False], [2, 0, 1], [False, 1, False]]\n",
      "[False, False, 1]\n"
     ]
    }
   ],
   "source": [
    "N = int(input())\n",
    "tree = [[False for _ in range(N)] for _ in range(N)]\n",
    "color_state = [False for _ in range(N)]\n",
    "color_state[N - 1] = 1\n",
    "for node in range(N - 1):\n",
    "    u, v, w = map(int, input().split())\n",
    "    tree[u - 1][v - 1] = tree[v - 1][u - 1] = w\n",
    "    tree[node][node] = 0\n",
    "\n",
    "print(tree)\n",
    "print(color_state)\n",
    "\n",
    "for node in range(N - 1, 1, -1):\n",
    "    l = tree[node]\n",
    "    "
   ]
  },
  {
   "cell_type": "code",
   "execution_count": null,
   "metadata": {},
   "outputs": [],
   "source": []
  }
 ],
 "metadata": {
  "kernelspec": {
   "display_name": "Python 3",
   "language": "python",
   "name": "python3"
  },
  "language_info": {
   "codemirror_mode": {
    "name": "ipython",
    "version": 3
   },
   "file_extension": ".py",
   "mimetype": "text/x-python",
   "name": "python",
   "nbconvert_exporter": "python",
   "pygments_lexer": "ipython3",
   "version": "3.6.4"
  }
 },
 "nbformat": 4,
 "nbformat_minor": 2
}
