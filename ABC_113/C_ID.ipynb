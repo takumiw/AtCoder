{
 "cells": [
  {
   "cell_type": "markdown",
   "metadata": {},
   "source": [
    "##### C: ID"
   ]
  },
  {
   "cell_type": "code",
   "execution_count": 35,
   "metadata": {},
   "outputs": [
    {
     "name": "stdout",
     "output_type": "stream",
     "text": [
      "2 3\n",
      "2 55\n",
      "2 77\n",
      "2 99\n",
      "000002000001\n",
      "000002000002\n",
      "000002000003\n"
     ]
    }
   ],
   "source": [
    "from operator import itemgetter\n",
    "\n",
    "def main():\n",
    "    num_prefecture, num_city = map(int, input().rstrip().split())\n",
    "    \n",
    "    prefecture_list = [[] for i in range(num_prefecture)]\n",
    "    \n",
    "    '''prefecture_list[prefecture_number-1] = [[city index, born year], ...]'''\n",
    "    for idx_city in range(num_city):\n",
    "        p_belong, y_born = map(int, input().rstrip().split())\n",
    "        prefecture_list[p_belong - 1].append([idx_city, y_born]) # convert p_belong so that index starts from 0\n",
    "    \n",
    "    # sort in the order of city birth year in an each prefecture\n",
    "    prefecture_list = [sorted(each_prefecture_list, key = itemgetter(1)) for each_prefecture_list in prefecture_list]\n",
    "    \n",
    "    id_list = []\n",
    "    for idx_p, each_prefecture_list in enumerate(prefecture_list):\n",
    "        for city_order, [idx_city, y_born] in enumerate(each_prefecture_list):\n",
    "            id_num = str(idx_p + 1).zfill(6) + str(city_order + 1).zfill(6)\n",
    "            id_list.append([idx_city, id_num])\n",
    "    \n",
    "    # sort in the order of city number\n",
    "    id_list.sort(key = itemgetter(0))\n",
    "    \n",
    "    for id_num in id_list:\n",
    "        print(id_num[1])\n",
    "    \n",
    "if __name__ == '__main__':\n",
    "    main()"
   ]
  },
  {
   "cell_type": "code",
   "execution_count": null,
   "metadata": {},
   "outputs": [],
   "source": []
  }
 ],
 "metadata": {
  "kernelspec": {
   "display_name": "Python 3",
   "language": "python",
   "name": "python3"
  },
  "language_info": {
   "codemirror_mode": {
    "name": "ipython",
    "version": 3
   },
   "file_extension": ".py",
   "mimetype": "text/x-python",
   "name": "python",
   "nbconvert_exporter": "python",
   "pygments_lexer": "ipython3",
   "version": "3.6.4"
  }
 },
 "nbformat": 4,
 "nbformat_minor": 2
}
