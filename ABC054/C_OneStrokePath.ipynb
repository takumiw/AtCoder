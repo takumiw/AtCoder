{
 "cells": [
  {
   "cell_type": "markdown",
   "metadata": {},
   "source": [
    "深さ優先探索(DFS: Depth First Search)"
   ]
  },
  {
   "cell_type": "code",
   "execution_count": 18,
   "metadata": {},
   "outputs": [
    {
     "name": "stdout",
     "output_type": "stream",
     "text": [
      "3 3\n",
      "1 2\n",
      "2 3\n",
      "1 3\n",
      "2\n"
     ]
    }
   ],
   "source": [
    "num_route = 0\n",
    "num_node = 0\n",
    "\n",
    "def func(unvisited_paths, visited_node, current_node):\n",
    "    global num_route\n",
    "    if len(visited_node) == num_node:\n",
    "            num_route += 1\n",
    "            return\n",
    "    for next_path in [path for path in unvisited_paths if (path[0] == current_node) and (path[1] not in visited_node)]:\n",
    "        next_visited_node = visited_node + [next_path[1]]\n",
    "        next_unvisited_paths = unvisited_paths[:]\n",
    "        next_unvisited_paths.pop(next_unvisited_paths.index([current_node, next_path[1]]))\n",
    "        next_unvisited_paths.pop(next_unvisited_paths.index([next_path[1], current_node]))\n",
    "        next_current_node = next_path[1]\n",
    "        \n",
    "        func(next_unvisited_paths, next_visited_node, next_current_node)\n",
    "    \n",
    "    return\n",
    "\n",
    "def main():\n",
    "    global num_node\n",
    "    num_node, num_path = map(int, input().split())\n",
    "    unvisited_paths = [list(map(int, input().split())) for i in range(num_path)]\n",
    "    for path in unvisited_paths[:]:\n",
    "        unvisited_paths.append([path[1], path[0]])\n",
    "    current_node, visited_node = 1, [1]\n",
    "    func(unvisited_paths, visited_node, current_node)\n",
    "    print(num_route)\n",
    "\n",
    "if __name__ == '__main__':\n",
    "    main()"
   ]
  },
  {
   "cell_type": "code",
   "execution_count": null,
   "metadata": {},
   "outputs": [],
   "source": []
  }
 ],
 "metadata": {
  "kernelspec": {
   "display_name": "Python 3",
   "language": "python",
   "name": "python3"
  },
  "language_info": {
   "codemirror_mode": {
    "name": "ipython",
    "version": 3
   },
   "file_extension": ".py",
   "mimetype": "text/x-python",
   "name": "python",
   "nbconvert_exporter": "python",
   "pygments_lexer": "ipython3",
   "version": "3.6.4"
  }
 },
 "nbformat": 4,
 "nbformat_minor": 2
}
