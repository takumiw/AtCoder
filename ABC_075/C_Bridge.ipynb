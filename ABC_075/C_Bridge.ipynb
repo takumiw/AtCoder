{
 "cells": [
  {
   "cell_type": "markdown",
   "metadata": {},
   "source": [
    "DFS"
   ]
  },
  {
   "cell_type": "code",
   "execution_count": 37,
   "metadata": {},
   "outputs": [
    {
     "name": "stdout",
     "output_type": "stream",
     "text": [
      "3 3\n",
      "1 2\n",
      "2 3\n",
      "1 3\n",
      "0\n"
     ]
    }
   ],
   "source": [
    "graph = 0\n",
    "node_visited = 0\n",
    "num_node = 0\n",
    "\n",
    "def search_route(current_node):\n",
    "    global node_visited\n",
    "    node_visited[current_node] = True\n",
    "    for next_node in range(num_node):\n",
    "        if graph[current_node][next_node] == False:\n",
    "            continue\n",
    "        if node_visited[next_node] == True:\n",
    "            continue\n",
    "        search_route(next_node)\n",
    "    \n",
    "def main():\n",
    "    global graph, node_visited, num_node\n",
    "    num_node, num_edge = map(int, input().split())\n",
    "    all_edges = [list(map(int, input().split())) for i in range(num_edge)]\n",
    "    graph = [[False for j in range(num_node)] for i in range(num_node)]\n",
    "    for edge_s, edge_g in all_edges:\n",
    "        graph[edge_s - 1][edge_g - 1] = graph[edge_g - 1][edge_s - 1] = True\n",
    "        \n",
    "    num_bridge = 0\n",
    "    for edge_s, edge_g in all_edges:\n",
    "        graph[edge_s - 1][edge_g - 1] = graph[edge_g - 1][edge_s - 1] = False\n",
    "        node_visited = [False for i in range(num_node)]\n",
    "        search_route(current_node = 0)\n",
    "        for node in node_visited:\n",
    "            if node == False:\n",
    "                num_bridge += 1\n",
    "                break\n",
    "        graph[edge_s - 1][edge_g - 1] = graph[edge_g - 1][edge_s - 1] = True\n",
    "    print(num_bridge)\n",
    "\n",
    "if __name__ == '__main__':\n",
    "    main()"
   ]
  },
  {
   "cell_type": "code",
   "execution_count": null,
   "metadata": {},
   "outputs": [],
   "source": []
  }
 ],
 "metadata": {
  "kernelspec": {
   "display_name": "Python 3",
   "language": "python",
   "name": "python3"
  },
  "language_info": {
   "codemirror_mode": {
    "name": "ipython",
    "version": 3
   },
   "file_extension": ".py",
   "mimetype": "text/x-python",
   "name": "python",
   "nbconvert_exporter": "python",
   "pygments_lexer": "ipython3",
   "version": "3.6.4"
  }
 },
 "nbformat": 4,
 "nbformat_minor": 2
}
