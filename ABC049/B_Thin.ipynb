{
 "cells": [
  {
   "cell_type": "code",
   "execution_count": 18,
   "metadata": {
    "collapsed": true
   },
   "outputs": [
    {
     "name": "stdout",
     "output_type": "stream",
     "text": [
      "2 2\n",
      "*.\n",
      ".*\n",
      "*.\n",
      "*.\n",
      ".*\n",
      ".*\n"
     ]
    }
   ],
   "source": [
    "H, W = map(int, input().split())\n",
    "original = [list(input()) for i in range(H)]\n",
    "converted = [[0 for j in range(W)] for i in range(2 * H)]\n",
    "for i in range(2 * H):\n",
    "    for j in range(W):\n",
    "        converted[i][j] = original[i // 2][j]\n",
    "        \n",
    "for row in converted:\n",
    "    print(''.join(row))"
   ]
  },
  {
   "cell_type": "code",
   "execution_count": 22,
   "metadata": {
    "collapsed": true
   },
   "outputs": [
    {
     "name": "stdout",
     "output_type": "stream",
     "text": [
      "2 2\n",
      "*.\n",
      ".*\n",
      "*.\n",
      "*.\n",
      ".*\n",
      ".*\n"
     ]
    }
   ],
   "source": [
    "H, W = map(int, input().split())\n",
    "original = [list(input()) for i in range(H)]\n",
    "for i in range(2 * H):\n",
    "    print(''.join(original[i // 2][:]))"
   ]
  },
  {
   "cell_type": "code",
   "execution_count": null,
   "metadata": {},
   "outputs": [],
   "source": []
  }
 ],
 "metadata": {
  "kernelspec": {
   "display_name": "Python 3",
   "language": "python",
   "name": "python3"
  },
  "language_info": {
   "codemirror_mode": {
    "name": "ipython",
    "version": 3
   },
   "file_extension": ".py",
   "mimetype": "text/x-python",
   "name": "python",
   "nbconvert_exporter": "python",
   "pygments_lexer": "ipython3",
   "version": "3.6.4"
  }
 },
 "nbformat": 4,
 "nbformat_minor": 2
}
