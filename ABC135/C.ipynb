{
 "cells": [
  {
   "cell_type": "code",
   "execution_count": 7,
   "metadata": {},
   "outputs": [
    {
     "name": "stdout",
     "output_type": "stream",
     "text": [
      "2\n",
      "100 1 1\n",
      "1 100\n",
      "3\n"
     ]
    }
   ],
   "source": [
    "N = int(input())\n",
    "mosters = list(map(int, input().split()))\n",
    "heros = list(map(int, input().split()))\n",
    "cnt = 0\n",
    "\n",
    "for i in range(N):\n",
    "    if heros[i] <= mosters[i]:\n",
    "        cnt += heros[i]\n",
    "    else:\n",
    "        cnt += mosters[i]\n",
    "        if (heros[i] - mosters[i]) >= mosters[i+1]:\n",
    "            cnt += mosters[i+1]\n",
    "            mosters[i+1] = 0\n",
    "        else:\n",
    "            cnt += heros[i] - mosters[i]\n",
    "            mosters[i+1] -= (heros[i] - mosters[i])\n",
    "\n",
    "print(cnt)"
   ]
  },
  {
   "cell_type": "code",
   "execution_count": null,
   "metadata": {},
   "outputs": [],
   "source": []
  }
 ],
 "metadata": {
  "kernelspec": {
   "display_name": "Python 3",
   "language": "python",
   "name": "python3"
  },
  "language_info": {
   "codemirror_mode": {
    "name": "ipython",
    "version": 3
   },
   "file_extension": ".py",
   "mimetype": "text/x-python",
   "name": "python",
   "nbconvert_exporter": "python",
   "pygments_lexer": "ipython3",
   "version": "3.6.4"
  }
 },
 "nbformat": 4,
 "nbformat_minor": 2
}
