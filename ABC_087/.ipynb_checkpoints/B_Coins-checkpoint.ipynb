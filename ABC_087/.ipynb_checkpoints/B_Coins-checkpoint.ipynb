{
 "cells": [
  {
   "cell_type": "code",
   "execution_count": 11,
   "metadata": {},
   "outputs": [
    {
     "name": "stdout",
     "output_type": "stream",
     "text": [
      "2\n",
      "2\n",
      "2\n",
      "100\n",
      "2\n"
     ]
    }
   ],
   "source": [
    "A, B, C, X = int(input()), int(input()), int(input()), int(input())\n",
    "cnt = 0\n",
    "try:\n",
    "    for n_500 in range(A + 1):\n",
    "        for n_100 in range(B + 1):\n",
    "            for n_50 in range(C + 1):\n",
    "                if n_500 * 500 + n_100 * 100 + n_50 * 50 == X:\n",
    "                    cnt += 1\n",
    "except:\n",
    "    pass\n",
    "finally:\n",
    "    print(cnt)"
   ]
  },
  {
   "cell_type": "code",
   "execution_count": null,
   "metadata": {},
   "outputs": [],
   "source": []
  }
 ],
 "metadata": {
  "kernelspec": {
   "display_name": "Python 3",
   "language": "python",
   "name": "python3"
  },
  "language_info": {
   "codemirror_mode": {
    "name": "ipython",
    "version": 3
   },
   "file_extension": ".py",
   "mimetype": "text/x-python",
   "name": "python",
   "nbconvert_exporter": "python",
   "pygments_lexer": "ipython3",
   "version": "3.6.4"
  }
 },
 "nbformat": 4,
 "nbformat_minor": 2
}
