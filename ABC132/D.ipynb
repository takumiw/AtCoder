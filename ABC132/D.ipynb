{
 "cells": [
  {
   "cell_type": "code",
   "execution_count": 42,
   "metadata": {},
   "outputs": [
    {
     "name": "stdout",
     "output_type": "stream",
     "text": [
      "2000 3\n",
      "1998\n",
      "3990006\n",
      "327341989\n"
     ]
    }
   ],
   "source": [
    "from math import factorial\n",
    "\n",
    "N, K = map(int, input().split())\n",
    "n_blue, n_red = K, N-K\n",
    "\n",
    "for k in range(1, K+1):\n",
    "    if k-1 > n_red:\n",
    "        print(0)\n",
    "        continue\n",
    "    retval = (factorial(n_red+1) // (factorial(n_red-k+1) * factorial(k))) * (factorial(n_blue-1) // (factorial(n_blue-k) * factorial(k-1)))\n",
    "    print(retval % (10**9 + 7))"
   ]
  }
 ],
 "metadata": {
  "kernelspec": {
   "display_name": "Python 3",
   "language": "python",
   "name": "python3"
  },
  "language_info": {
   "codemirror_mode": {
    "name": "ipython",
    "version": 3
   },
   "file_extension": ".py",
   "mimetype": "text/x-python",
   "name": "python",
   "nbconvert_exporter": "python",
   "pygments_lexer": "ipython3",
   "version": "3.6.4"
  }
 },
 "nbformat": 4,
 "nbformat_minor": 2
}
